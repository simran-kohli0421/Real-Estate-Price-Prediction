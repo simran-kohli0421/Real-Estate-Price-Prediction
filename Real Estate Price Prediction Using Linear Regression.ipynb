{
 "cells": [
  {
   "cell_type": "markdown",
   "id": "9bf0cb3f",
   "metadata": {},
   "source": [
    "# Real Estate Price Prediction"
   ]
  },
  {
   "cell_type": "code",
   "execution_count": 2,
   "id": "d45643ae",
   "metadata": {},
   "outputs": [],
   "source": [
    "import pandas as pd\n",
    "import numpy as np\n",
    "import matplotlib.pyplot as plt"
   ]
  },
  {
   "cell_type": "code",
   "execution_count": 3,
   "id": "eec58619",
   "metadata": {},
   "outputs": [],
   "source": [
    "housing_data=pd.read_csv(\"Downloads/HousingData.csv\")"
   ]
  },
  {
   "cell_type": "code",
   "execution_count": 4,
   "id": "33e6865d",
   "metadata": {},
   "outputs": [
    {
     "data": {
      "text/html": [
       "<div>\n",
       "<style scoped>\n",
       "    .dataframe tbody tr th:only-of-type {\n",
       "        vertical-align: middle;\n",
       "    }\n",
       "\n",
       "    .dataframe tbody tr th {\n",
       "        vertical-align: top;\n",
       "    }\n",
       "\n",
       "    .dataframe thead th {\n",
       "        text-align: right;\n",
       "    }\n",
       "</style>\n",
       "<table border=\"1\" class=\"dataframe\">\n",
       "  <thead>\n",
       "    <tr style=\"text-align: right;\">\n",
       "      <th></th>\n",
       "      <th>CRIM</th>\n",
       "      <th>ZN</th>\n",
       "      <th>INDUS</th>\n",
       "      <th>CHAS</th>\n",
       "      <th>NOX</th>\n",
       "      <th>RM</th>\n",
       "      <th>AGE</th>\n",
       "      <th>DIS</th>\n",
       "      <th>RAD</th>\n",
       "      <th>TAX</th>\n",
       "      <th>PTRATIO</th>\n",
       "      <th>B</th>\n",
       "      <th>LSTAT</th>\n",
       "      <th>MEDV</th>\n",
       "    </tr>\n",
       "  </thead>\n",
       "  <tbody>\n",
       "    <tr>\n",
       "      <th>0</th>\n",
       "      <td>0.00632</td>\n",
       "      <td>18.0</td>\n",
       "      <td>2.31</td>\n",
       "      <td>0.0</td>\n",
       "      <td>0.538</td>\n",
       "      <td>6.575</td>\n",
       "      <td>65.2</td>\n",
       "      <td>4.0900</td>\n",
       "      <td>1</td>\n",
       "      <td>296</td>\n",
       "      <td>15.3</td>\n",
       "      <td>396.90</td>\n",
       "      <td>4.98</td>\n",
       "      <td>24.0</td>\n",
       "    </tr>\n",
       "    <tr>\n",
       "      <th>1</th>\n",
       "      <td>0.02731</td>\n",
       "      <td>0.0</td>\n",
       "      <td>7.07</td>\n",
       "      <td>0.0</td>\n",
       "      <td>0.469</td>\n",
       "      <td>6.421</td>\n",
       "      <td>78.9</td>\n",
       "      <td>4.9671</td>\n",
       "      <td>2</td>\n",
       "      <td>242</td>\n",
       "      <td>17.8</td>\n",
       "      <td>396.90</td>\n",
       "      <td>9.14</td>\n",
       "      <td>21.6</td>\n",
       "    </tr>\n",
       "    <tr>\n",
       "      <th>2</th>\n",
       "      <td>0.02729</td>\n",
       "      <td>0.0</td>\n",
       "      <td>7.07</td>\n",
       "      <td>0.0</td>\n",
       "      <td>0.469</td>\n",
       "      <td>7.185</td>\n",
       "      <td>61.1</td>\n",
       "      <td>4.9671</td>\n",
       "      <td>2</td>\n",
       "      <td>242</td>\n",
       "      <td>17.8</td>\n",
       "      <td>392.83</td>\n",
       "      <td>4.03</td>\n",
       "      <td>34.7</td>\n",
       "    </tr>\n",
       "    <tr>\n",
       "      <th>3</th>\n",
       "      <td>0.03237</td>\n",
       "      <td>0.0</td>\n",
       "      <td>2.18</td>\n",
       "      <td>0.0</td>\n",
       "      <td>0.458</td>\n",
       "      <td>6.998</td>\n",
       "      <td>45.8</td>\n",
       "      <td>6.0622</td>\n",
       "      <td>3</td>\n",
       "      <td>222</td>\n",
       "      <td>18.7</td>\n",
       "      <td>394.63</td>\n",
       "      <td>2.94</td>\n",
       "      <td>33.4</td>\n",
       "    </tr>\n",
       "    <tr>\n",
       "      <th>4</th>\n",
       "      <td>0.06905</td>\n",
       "      <td>0.0</td>\n",
       "      <td>2.18</td>\n",
       "      <td>0.0</td>\n",
       "      <td>0.458</td>\n",
       "      <td>7.147</td>\n",
       "      <td>54.2</td>\n",
       "      <td>6.0622</td>\n",
       "      <td>3</td>\n",
       "      <td>222</td>\n",
       "      <td>18.7</td>\n",
       "      <td>396.90</td>\n",
       "      <td>NaN</td>\n",
       "      <td>36.2</td>\n",
       "    </tr>\n",
       "  </tbody>\n",
       "</table>\n",
       "</div>"
      ],
      "text/plain": [
       "      CRIM    ZN  INDUS  CHAS    NOX     RM   AGE     DIS  RAD  TAX  PTRATIO  \\\n",
       "0  0.00632  18.0   2.31   0.0  0.538  6.575  65.2  4.0900    1  296     15.3   \n",
       "1  0.02731   0.0   7.07   0.0  0.469  6.421  78.9  4.9671    2  242     17.8   \n",
       "2  0.02729   0.0   7.07   0.0  0.469  7.185  61.1  4.9671    2  242     17.8   \n",
       "3  0.03237   0.0   2.18   0.0  0.458  6.998  45.8  6.0622    3  222     18.7   \n",
       "4  0.06905   0.0   2.18   0.0  0.458  7.147  54.2  6.0622    3  222     18.7   \n",
       "\n",
       "        B  LSTAT  MEDV  \n",
       "0  396.90   4.98  24.0  \n",
       "1  396.90   9.14  21.6  \n",
       "2  392.83   4.03  34.7  \n",
       "3  394.63   2.94  33.4  \n",
       "4  396.90    NaN  36.2  "
      ]
     },
     "execution_count": 4,
     "metadata": {},
     "output_type": "execute_result"
    }
   ],
   "source": [
    "housing_data.head()"
   ]
  },
  {
   "cell_type": "markdown",
   "id": "1cb47225",
   "metadata": {},
   "source": [
    "#### CRIM: Per capita crime rate by town. It indicates the level of crime in the area.\n",
    "#### ZN: Proportion of residential land zoned for lots over 25,000 sq.ft. This feature reflects the area's residential density.\n",
    "#### INDUS: Proportion of non-retail business acres per town. This is an indicator of the commercial use of land away from residential areas.\n",
    "#### CHAS: Charles River dummy variable (1 if tract bounds river; 0 otherwise). This indicates whether the property is near the Charles River, which may add to the aesthetic value of the neighborhood.\n",
    "#### NOX: Nitric oxides concentration (parts per 10 million). It represents the level of industrial pollutants in the area.\n",
    "#### RM: Average number of rooms per dwelling. More rooms typically indicate more spacious accommodation.\n",
    "#### AGE: Proportion of owner-occupied units built prior to 1940. Older structures might lack newer amenities or could be considered more prestigious depending on the architecture and condition.\n",
    "#### DIS: Weighted distances to five Boston employment centres. This feature measures the accessibility to workplaces, which can influence housing prices.\n",
    "#### RAD: Index of accessibility to radial highways. Higher values indicate easier access to major roadways.\n",
    "#### TAX: Full-value property-tax rate per 10,000. This reflects the annual property tax rate.\n",
    "#### PTRATIO: Pupil-teacher ratio by town. Lower values typically indicate better educational facilities, which is a significant factor for families when choosing a home.\n",
    "#### MEDV- Median Value of Houses in  1000\n",
    "#### LSTAT- % Lower status people in a locality"
   ]
  },
  {
   "cell_type": "code",
   "execution_count": 5,
   "id": "0ec6c587",
   "metadata": {},
   "outputs": [
    {
     "name": "stdout",
     "output_type": "stream",
     "text": [
      "<class 'pandas.core.frame.DataFrame'>\n",
      "RangeIndex: 506 entries, 0 to 505\n",
      "Data columns (total 14 columns):\n",
      " #   Column   Non-Null Count  Dtype  \n",
      "---  ------   --------------  -----  \n",
      " 0   CRIM     486 non-null    float64\n",
      " 1   ZN       486 non-null    float64\n",
      " 2   INDUS    486 non-null    float64\n",
      " 3   CHAS     486 non-null    float64\n",
      " 4   NOX      506 non-null    float64\n",
      " 5   RM       506 non-null    float64\n",
      " 6   AGE      486 non-null    float64\n",
      " 7   DIS      506 non-null    float64\n",
      " 8   RAD      506 non-null    int64  \n",
      " 9   TAX      506 non-null    int64  \n",
      " 10  PTRATIO  506 non-null    float64\n",
      " 11  B        506 non-null    float64\n",
      " 12  LSTAT    486 non-null    float64\n",
      " 13  MEDV     506 non-null    float64\n",
      "dtypes: float64(12), int64(2)\n",
      "memory usage: 55.5 KB\n"
     ]
    }
   ],
   "source": [
    "housing_data.info()"
   ]
  },
  {
   "cell_type": "code",
   "execution_count": 6,
   "id": "e09c0677",
   "metadata": {},
   "outputs": [],
   "source": [
    "# we have null values in CRIM ZN INDUS AGE "
   ]
  },
  {
   "cell_type": "code",
   "execution_count": 7,
   "id": "567e57ac",
   "metadata": {},
   "outputs": [
    {
     "data": {
      "text/plain": [
       "(506, 14)"
      ]
     },
     "execution_count": 7,
     "metadata": {},
     "output_type": "execute_result"
    }
   ],
   "source": [
    "housing_data.shape"
   ]
  },
  {
   "cell_type": "code",
   "execution_count": 8,
   "id": "33886afa",
   "metadata": {},
   "outputs": [
    {
     "data": {
      "text/plain": [
       "CRIM        True\n",
       "ZN          True\n",
       "INDUS       True\n",
       "CHAS        True\n",
       "NOX        False\n",
       "RM         False\n",
       "AGE         True\n",
       "DIS        False\n",
       "RAD        False\n",
       "TAX        False\n",
       "PTRATIO    False\n",
       "B          False\n",
       "LSTAT       True\n",
       "MEDV       False\n",
       "dtype: bool"
      ]
     },
     "execution_count": 8,
     "metadata": {},
     "output_type": "execute_result"
    }
   ],
   "source": [
    "housing_data.isnull().any()"
   ]
  },
  {
   "cell_type": "code",
   "execution_count": 9,
   "id": "a7dd32ea",
   "metadata": {},
   "outputs": [
    {
     "data": {
      "text/plain": [
       "CRIM       20\n",
       "ZN         20\n",
       "INDUS      20\n",
       "CHAS       20\n",
       "NOX         0\n",
       "RM          0\n",
       "AGE        20\n",
       "DIS         0\n",
       "RAD         0\n",
       "TAX         0\n",
       "PTRATIO     0\n",
       "B           0\n",
       "LSTAT      20\n",
       "MEDV        0\n",
       "dtype: int64"
      ]
     },
     "execution_count": 9,
     "metadata": {},
     "output_type": "execute_result"
    }
   ],
   "source": [
    "housing_data.isnull().sum()\n",
    "# missing data points can either be deleted, the attribute can be deleted if too many missing points or replace the value with 0,mean or median"
   ]
  },
  {
   "cell_type": "code",
   "execution_count": 10,
   "id": "11096e56",
   "metadata": {},
   "outputs": [],
   "source": [
    "### Replacing Null Values"
   ]
  },
  {
   "cell_type": "code",
   "execution_count": 11,
   "id": "9e096b29",
   "metadata": {},
   "outputs": [
    {
     "data": {
      "text/html": [
       "<div>\n",
       "<style scoped>\n",
       "    .dataframe tbody tr th:only-of-type {\n",
       "        vertical-align: middle;\n",
       "    }\n",
       "\n",
       "    .dataframe tbody tr th {\n",
       "        vertical-align: top;\n",
       "    }\n",
       "\n",
       "    .dataframe thead th {\n",
       "        text-align: right;\n",
       "    }\n",
       "</style>\n",
       "<table border=\"1\" class=\"dataframe\">\n",
       "  <thead>\n",
       "    <tr style=\"text-align: right;\">\n",
       "      <th></th>\n",
       "      <th>CRIM</th>\n",
       "      <th>ZN</th>\n",
       "      <th>INDUS</th>\n",
       "      <th>CHAS</th>\n",
       "      <th>NOX</th>\n",
       "      <th>RM</th>\n",
       "      <th>AGE</th>\n",
       "      <th>DIS</th>\n",
       "      <th>RAD</th>\n",
       "      <th>TAX</th>\n",
       "      <th>PTRATIO</th>\n",
       "      <th>B</th>\n",
       "      <th>LSTAT</th>\n",
       "      <th>MEDV</th>\n",
       "    </tr>\n",
       "  </thead>\n",
       "  <tbody>\n",
       "    <tr>\n",
       "      <th>count</th>\n",
       "      <td>486.000000</td>\n",
       "      <td>486.000000</td>\n",
       "      <td>486.000000</td>\n",
       "      <td>486.000000</td>\n",
       "      <td>506.000000</td>\n",
       "      <td>506.000000</td>\n",
       "      <td>486.000000</td>\n",
       "      <td>506.000000</td>\n",
       "      <td>506.000000</td>\n",
       "      <td>506.000000</td>\n",
       "      <td>506.000000</td>\n",
       "      <td>506.000000</td>\n",
       "      <td>486.000000</td>\n",
       "      <td>506.000000</td>\n",
       "    </tr>\n",
       "    <tr>\n",
       "      <th>mean</th>\n",
       "      <td>3.611874</td>\n",
       "      <td>11.211934</td>\n",
       "      <td>11.083992</td>\n",
       "      <td>0.069959</td>\n",
       "      <td>0.554695</td>\n",
       "      <td>6.284634</td>\n",
       "      <td>68.518519</td>\n",
       "      <td>3.795043</td>\n",
       "      <td>9.549407</td>\n",
       "      <td>408.237154</td>\n",
       "      <td>18.455534</td>\n",
       "      <td>356.674032</td>\n",
       "      <td>12.715432</td>\n",
       "      <td>22.532806</td>\n",
       "    </tr>\n",
       "    <tr>\n",
       "      <th>std</th>\n",
       "      <td>8.720192</td>\n",
       "      <td>23.388876</td>\n",
       "      <td>6.835896</td>\n",
       "      <td>0.255340</td>\n",
       "      <td>0.115878</td>\n",
       "      <td>0.702617</td>\n",
       "      <td>27.999513</td>\n",
       "      <td>2.105710</td>\n",
       "      <td>8.707259</td>\n",
       "      <td>168.537116</td>\n",
       "      <td>2.164946</td>\n",
       "      <td>91.294864</td>\n",
       "      <td>7.155871</td>\n",
       "      <td>9.197104</td>\n",
       "    </tr>\n",
       "    <tr>\n",
       "      <th>min</th>\n",
       "      <td>0.006320</td>\n",
       "      <td>0.000000</td>\n",
       "      <td>0.460000</td>\n",
       "      <td>0.000000</td>\n",
       "      <td>0.385000</td>\n",
       "      <td>3.561000</td>\n",
       "      <td>2.900000</td>\n",
       "      <td>1.129600</td>\n",
       "      <td>1.000000</td>\n",
       "      <td>187.000000</td>\n",
       "      <td>12.600000</td>\n",
       "      <td>0.320000</td>\n",
       "      <td>1.730000</td>\n",
       "      <td>5.000000</td>\n",
       "    </tr>\n",
       "    <tr>\n",
       "      <th>25%</th>\n",
       "      <td>0.081900</td>\n",
       "      <td>0.000000</td>\n",
       "      <td>5.190000</td>\n",
       "      <td>0.000000</td>\n",
       "      <td>0.449000</td>\n",
       "      <td>5.885500</td>\n",
       "      <td>45.175000</td>\n",
       "      <td>2.100175</td>\n",
       "      <td>4.000000</td>\n",
       "      <td>279.000000</td>\n",
       "      <td>17.400000</td>\n",
       "      <td>375.377500</td>\n",
       "      <td>7.125000</td>\n",
       "      <td>17.025000</td>\n",
       "    </tr>\n",
       "    <tr>\n",
       "      <th>50%</th>\n",
       "      <td>0.253715</td>\n",
       "      <td>0.000000</td>\n",
       "      <td>9.690000</td>\n",
       "      <td>0.000000</td>\n",
       "      <td>0.538000</td>\n",
       "      <td>6.208500</td>\n",
       "      <td>76.800000</td>\n",
       "      <td>3.207450</td>\n",
       "      <td>5.000000</td>\n",
       "      <td>330.000000</td>\n",
       "      <td>19.050000</td>\n",
       "      <td>391.440000</td>\n",
       "      <td>11.430000</td>\n",
       "      <td>21.200000</td>\n",
       "    </tr>\n",
       "    <tr>\n",
       "      <th>75%</th>\n",
       "      <td>3.560263</td>\n",
       "      <td>12.500000</td>\n",
       "      <td>18.100000</td>\n",
       "      <td>0.000000</td>\n",
       "      <td>0.624000</td>\n",
       "      <td>6.623500</td>\n",
       "      <td>93.975000</td>\n",
       "      <td>5.188425</td>\n",
       "      <td>24.000000</td>\n",
       "      <td>666.000000</td>\n",
       "      <td>20.200000</td>\n",
       "      <td>396.225000</td>\n",
       "      <td>16.955000</td>\n",
       "      <td>25.000000</td>\n",
       "    </tr>\n",
       "    <tr>\n",
       "      <th>max</th>\n",
       "      <td>88.976200</td>\n",
       "      <td>100.000000</td>\n",
       "      <td>27.740000</td>\n",
       "      <td>1.000000</td>\n",
       "      <td>0.871000</td>\n",
       "      <td>8.780000</td>\n",
       "      <td>100.000000</td>\n",
       "      <td>12.126500</td>\n",
       "      <td>24.000000</td>\n",
       "      <td>711.000000</td>\n",
       "      <td>22.000000</td>\n",
       "      <td>396.900000</td>\n",
       "      <td>37.970000</td>\n",
       "      <td>50.000000</td>\n",
       "    </tr>\n",
       "  </tbody>\n",
       "</table>\n",
       "</div>"
      ],
      "text/plain": [
       "             CRIM          ZN       INDUS        CHAS         NOX          RM  \\\n",
       "count  486.000000  486.000000  486.000000  486.000000  506.000000  506.000000   \n",
       "mean     3.611874   11.211934   11.083992    0.069959    0.554695    6.284634   \n",
       "std      8.720192   23.388876    6.835896    0.255340    0.115878    0.702617   \n",
       "min      0.006320    0.000000    0.460000    0.000000    0.385000    3.561000   \n",
       "25%      0.081900    0.000000    5.190000    0.000000    0.449000    5.885500   \n",
       "50%      0.253715    0.000000    9.690000    0.000000    0.538000    6.208500   \n",
       "75%      3.560263   12.500000   18.100000    0.000000    0.624000    6.623500   \n",
       "max     88.976200  100.000000   27.740000    1.000000    0.871000    8.780000   \n",
       "\n",
       "              AGE         DIS         RAD         TAX     PTRATIO           B  \\\n",
       "count  486.000000  506.000000  506.000000  506.000000  506.000000  506.000000   \n",
       "mean    68.518519    3.795043    9.549407  408.237154   18.455534  356.674032   \n",
       "std     27.999513    2.105710    8.707259  168.537116    2.164946   91.294864   \n",
       "min      2.900000    1.129600    1.000000  187.000000   12.600000    0.320000   \n",
       "25%     45.175000    2.100175    4.000000  279.000000   17.400000  375.377500   \n",
       "50%     76.800000    3.207450    5.000000  330.000000   19.050000  391.440000   \n",
       "75%     93.975000    5.188425   24.000000  666.000000   20.200000  396.225000   \n",
       "max    100.000000   12.126500   24.000000  711.000000   22.000000  396.900000   \n",
       "\n",
       "            LSTAT        MEDV  \n",
       "count  486.000000  506.000000  \n",
       "mean    12.715432   22.532806  \n",
       "std      7.155871    9.197104  \n",
       "min      1.730000    5.000000  \n",
       "25%      7.125000   17.025000  \n",
       "50%     11.430000   21.200000  \n",
       "75%     16.955000   25.000000  \n",
       "max     37.970000   50.000000  "
      ]
     },
     "execution_count": 11,
     "metadata": {},
     "output_type": "execute_result"
    }
   ],
   "source": [
    "housing_data.describe()"
   ]
  },
  {
   "cell_type": "code",
   "execution_count": 12,
   "id": "2989912d",
   "metadata": {},
   "outputs": [],
   "source": [
    "import matplotlib.pyplot as plt"
   ]
  },
  {
   "cell_type": "code",
   "execution_count": 13,
   "id": "7e0f2b93",
   "metadata": {},
   "outputs": [],
   "source": [
    "housing_data['CRIM'].fillna(value=housing_data['CRIM'].median() , inplace=True)"
   ]
  },
  {
   "cell_type": "code",
   "execution_count": 14,
   "id": "67687afe",
   "metadata": {},
   "outputs": [
    {
     "data": {
      "text/plain": [
       "0.253715"
      ]
     },
     "execution_count": 14,
     "metadata": {},
     "output_type": "execute_result"
    }
   ],
   "source": [
    "housing_data['CRIM'].median()"
   ]
  },
  {
   "cell_type": "code",
   "execution_count": 15,
   "id": "2bf641d7",
   "metadata": {},
   "outputs": [
    {
     "data": {
      "text/plain": [
       "False"
      ]
     },
     "execution_count": 15,
     "metadata": {},
     "output_type": "execute_result"
    }
   ],
   "source": [
    "housing_data['CRIM'].isnull().any()"
   ]
  },
  {
   "cell_type": "code",
   "execution_count": 16,
   "id": "80478bce",
   "metadata": {},
   "outputs": [],
   "source": [
    "housing_data['ZN'].fillna(value=housing_data['ZN'].median(),inplace=True)"
   ]
  },
  {
   "cell_type": "code",
   "execution_count": 17,
   "id": "db31291e",
   "metadata": {},
   "outputs": [],
   "source": [
    "housing_data['INDUS'].fillna(value=housing_data['INDUS'].mean(),inplace=True)"
   ]
  },
  {
   "cell_type": "code",
   "execution_count": 18,
   "id": "4dd90ee7",
   "metadata": {},
   "outputs": [],
   "source": [
    "housing_data['CHAS'].fillna(value=0,inplace=True)"
   ]
  },
  {
   "cell_type": "code",
   "execution_count": 19,
   "id": "8be58e78",
   "metadata": {},
   "outputs": [],
   "source": [
    "\n",
    "age=housing_data['AGE']"
   ]
  },
  {
   "cell_type": "code",
   "execution_count": 20,
   "id": "04ee6abf",
   "metadata": {},
   "outputs": [
    {
     "data": {
      "image/png": "[encoded data removed]",
      "text/plain": [
       "<Figure size 432x288 with 1 Axes>"
      ]
     },
     "metadata": {
      "needs_background": "light"
     },
     "output_type": "display_data"
    }
   ],
   "source": [
    "plt.hist(housing_data,bins=30,edgecolor='black')\n",
    "plt.show()"
   ]
  },
  {
   "cell_type": "code",
   "execution_count": 21,
   "id": "9297b91e",
   "metadata": {},
   "outputs": [],
   "source": [
    "housing_data['AGE'].fillna(value=housing_data['AGE'].median(),inplace=True)"
   ]
  },
  {
   "cell_type": "code",
   "execution_count": 22,
   "id": "36376785",
   "metadata": {},
   "outputs": [],
   "source": [
    "housing_data['LSTAT'].fillna(value=housing_data['LSTAT'].median(),inplace=True)"
   ]
  },
  {
   "cell_type": "code",
   "execution_count": 23,
   "id": "af81fc4e",
   "metadata": {},
   "outputs": [
    {
     "data": {
      "text/plain": [
       "0.0    472\n",
       "1.0     34\n",
       "Name: CHAS, dtype: int64"
      ]
     },
     "execution_count": 23,
     "metadata": {},
     "output_type": "execute_result"
    }
   ],
   "source": [
    "housing_data['CHAS'].value_counts()"
   ]
  },
  {
   "cell_type": "code",
   "execution_count": 24,
   "id": "dd470c62",
   "metadata": {},
   "outputs": [],
   "source": [
    "# We check the value_counts of categorical variables to see if there is any error value/unexpected value"
   ]
  },
  {
   "cell_type": "code",
   "execution_count": 25,
   "id": "cce4c811",
   "metadata": {},
   "outputs": [
    {
     "data": {
      "text/html": [
       "<div>\n",
       "<style scoped>\n",
       "    .dataframe tbody tr th:only-of-type {\n",
       "        vertical-align: middle;\n",
       "    }\n",
       "\n",
       "    .dataframe tbody tr th {\n",
       "        vertical-align: top;\n",
       "    }\n",
       "\n",
       "    .dataframe thead th {\n",
       "        text-align: right;\n",
       "    }\n",
       "</style>\n",
       "<table border=\"1\" class=\"dataframe\">\n",
       "  <thead>\n",
       "    <tr style=\"text-align: right;\">\n",
       "      <th></th>\n",
       "      <th>CRIM</th>\n",
       "      <th>ZN</th>\n",
       "      <th>INDUS</th>\n",
       "      <th>CHAS</th>\n",
       "      <th>NOX</th>\n",
       "      <th>RM</th>\n",
       "      <th>AGE</th>\n",
       "      <th>DIS</th>\n",
       "      <th>RAD</th>\n",
       "      <th>TAX</th>\n",
       "      <th>PTRATIO</th>\n",
       "      <th>B</th>\n",
       "      <th>LSTAT</th>\n",
       "      <th>MEDV</th>\n",
       "    </tr>\n",
       "  </thead>\n",
       "  <tbody>\n",
       "    <tr>\n",
       "      <th>count</th>\n",
       "      <td>506.000000</td>\n",
       "      <td>506.000000</td>\n",
       "      <td>506.000000</td>\n",
       "      <td>506.000000</td>\n",
       "      <td>506.000000</td>\n",
       "      <td>506.000000</td>\n",
       "      <td>506.000000</td>\n",
       "      <td>506.000000</td>\n",
       "      <td>506.000000</td>\n",
       "      <td>506.000000</td>\n",
       "      <td>506.000000</td>\n",
       "      <td>506.000000</td>\n",
       "      <td>506.000000</td>\n",
       "      <td>506.000000</td>\n",
       "    </tr>\n",
       "    <tr>\n",
       "      <th>mean</th>\n",
       "      <td>3.479140</td>\n",
       "      <td>10.768775</td>\n",
       "      <td>11.083992</td>\n",
       "      <td>0.067194</td>\n",
       "      <td>0.554695</td>\n",
       "      <td>6.284634</td>\n",
       "      <td>68.845850</td>\n",
       "      <td>3.795043</td>\n",
       "      <td>9.549407</td>\n",
       "      <td>408.237154</td>\n",
       "      <td>18.455534</td>\n",
       "      <td>356.674032</td>\n",
       "      <td>12.664625</td>\n",
       "      <td>22.532806</td>\n",
       "    </tr>\n",
       "    <tr>\n",
       "      <th>std</th>\n",
       "      <td>8.570832</td>\n",
       "      <td>23.025124</td>\n",
       "      <td>6.699165</td>\n",
       "      <td>0.250605</td>\n",
       "      <td>0.115878</td>\n",
       "      <td>0.702617</td>\n",
       "      <td>27.486962</td>\n",
       "      <td>2.105710</td>\n",
       "      <td>8.707259</td>\n",
       "      <td>168.537116</td>\n",
       "      <td>2.164946</td>\n",
       "      <td>91.294864</td>\n",
       "      <td>7.017219</td>\n",
       "      <td>9.197104</td>\n",
       "    </tr>\n",
       "    <tr>\n",
       "      <th>min</th>\n",
       "      <td>0.006320</td>\n",
       "      <td>0.000000</td>\n",
       "      <td>0.460000</td>\n",
       "      <td>0.000000</td>\n",
       "      <td>0.385000</td>\n",
       "      <td>3.561000</td>\n",
       "      <td>2.900000</td>\n",
       "      <td>1.129600</td>\n",
       "      <td>1.000000</td>\n",
       "      <td>187.000000</td>\n",
       "      <td>12.600000</td>\n",
       "      <td>0.320000</td>\n",
       "      <td>1.730000</td>\n",
       "      <td>5.000000</td>\n",
       "    </tr>\n",
       "    <tr>\n",
       "      <th>25%</th>\n",
       "      <td>0.083235</td>\n",
       "      <td>0.000000</td>\n",
       "      <td>5.190000</td>\n",
       "      <td>0.000000</td>\n",
       "      <td>0.449000</td>\n",
       "      <td>5.885500</td>\n",
       "      <td>45.925000</td>\n",
       "      <td>2.100175</td>\n",
       "      <td>4.000000</td>\n",
       "      <td>279.000000</td>\n",
       "      <td>17.400000</td>\n",
       "      <td>375.377500</td>\n",
       "      <td>7.230000</td>\n",
       "      <td>17.025000</td>\n",
       "    </tr>\n",
       "    <tr>\n",
       "      <th>50%</th>\n",
       "      <td>0.253715</td>\n",
       "      <td>0.000000</td>\n",
       "      <td>9.900000</td>\n",
       "      <td>0.000000</td>\n",
       "      <td>0.538000</td>\n",
       "      <td>6.208500</td>\n",
       "      <td>76.800000</td>\n",
       "      <td>3.207450</td>\n",
       "      <td>5.000000</td>\n",
       "      <td>330.000000</td>\n",
       "      <td>19.050000</td>\n",
       "      <td>391.440000</td>\n",
       "      <td>11.430000</td>\n",
       "      <td>21.200000</td>\n",
       "    </tr>\n",
       "    <tr>\n",
       "      <th>75%</th>\n",
       "      <td>2.808720</td>\n",
       "      <td>0.000000</td>\n",
       "      <td>18.100000</td>\n",
       "      <td>0.000000</td>\n",
       "      <td>0.624000</td>\n",
       "      <td>6.623500</td>\n",
       "      <td>93.575000</td>\n",
       "      <td>5.188425</td>\n",
       "      <td>24.000000</td>\n",
       "      <td>666.000000</td>\n",
       "      <td>20.200000</td>\n",
       "      <td>396.225000</td>\n",
       "      <td>16.570000</td>\n",
       "      <td>25.000000</td>\n",
       "    </tr>\n",
       "    <tr>\n",
       "      <th>max</th>\n",
       "      <td>88.976200</td>\n",
       "      <td>100.000000</td>\n",
       "      <td>27.740000</td>\n",
       "      <td>1.000000</td>\n",
       "      <td>0.871000</td>\n",
       "      <td>8.780000</td>\n",
       "      <td>100.000000</td>\n",
       "      <td>12.126500</td>\n",
       "      <td>24.000000</td>\n",
       "      <td>711.000000</td>\n",
       "      <td>22.000000</td>\n",
       "      <td>396.900000</td>\n",
       "      <td>37.970000</td>\n",
       "      <td>50.000000</td>\n",
       "    </tr>\n",
       "  </tbody>\n",
       "</table>\n",
       "</div>"
      ],
      "text/plain": [
       "             CRIM          ZN       INDUS        CHAS         NOX          RM  \\\n",
       "count  506.000000  506.000000  506.000000  506.000000  506.000000  506.000000   \n",
       "mean     3.479140   10.768775   11.083992    0.067194    0.554695    6.284634   \n",
       "std      8.570832   23.025124    6.699165    0.250605    0.115878    0.702617   \n",
       "min      0.006320    0.000000    0.460000    0.000000    0.385000    3.561000   \n",
       "25%      0.083235    0.000000    5.190000    0.000000    0.449000    5.885500   \n",
       "50%      0.253715    0.000000    9.900000    0.000000    0.538000    6.208500   \n",
       "75%      2.808720    0.000000   18.100000    0.000000    0.624000    6.623500   \n",
       "max     88.976200  100.000000   27.740000    1.000000    0.871000    8.780000   \n",
       "\n",
       "              AGE         DIS         RAD         TAX     PTRATIO           B  \\\n",
       "count  506.000000  506.000000  506.000000  506.000000  506.000000  506.000000   \n",
       "mean    68.845850    3.795043    9.549407  408.237154   18.455534  356.674032   \n",
       "std     27.486962    2.105710    8.707259  168.537116    2.164946   91.294864   \n",
       "min      2.900000    1.129600    1.000000  187.000000   12.600000    0.320000   \n",
       "25%     45.925000    2.100175    4.000000  279.000000   17.400000  375.377500   \n",
       "50%     76.800000    3.207450    5.000000  330.000000   19.050000  391.440000   \n",
       "75%     93.575000    5.188425   24.000000  666.000000   20.200000  396.225000   \n",
       "max    100.000000   12.126500   24.000000  711.000000   22.000000  396.900000   \n",
       "\n",
       "            LSTAT        MEDV  \n",
       "count  506.000000  506.000000  \n",
       "mean    12.664625   22.532806  \n",
       "std      7.017219    9.197104  \n",
       "min      1.730000    5.000000  \n",
       "25%      7.230000   17.025000  \n",
       "50%     11.430000   21.200000  \n",
       "75%     16.570000   25.000000  \n",
       "max     37.970000   50.000000  "
      ]
     },
     "execution_count": 25,
     "metadata": {},
     "output_type": "execute_result"
    }
   ],
   "source": [
    "housing_data.describe()\n",
    "# 75% data lies  below 2.8% for crim\n",
    "\n"
   ]
  },
  {
   "cell_type": "code",
   "execution_count": 26,
   "id": "39be71ab",
   "metadata": {},
   "outputs": [
    {
     "data": {
      "image/png": "[encoded data removed]",
      "text/plain": [
       "<Figure size 1440x1440 with 16 Axes>"
      ]
     },
     "metadata": {
      "needs_background": "light"
     },
     "output_type": "display_data"
    }
   ],
   "source": [
    "housing_data.hist(bins=50, figsize=(20,20))\n",
    "plt.show()"
   ]
  },
  {
   "cell_type": "code",
   "execution_count": 27,
   "id": "db0cd7f6",
   "metadata": {},
   "outputs": [],
   "source": [
    "# train test split using sklearn\n",
    "from sklearn.model_selection import train_test_split\n",
    "training_set1,test_set1=train_test_split(housing_data,test_size=0.2,random_state=42)"
   ]
  },
  {
   "cell_type": "code",
   "execution_count": 28,
   "id": "7423f96e",
   "metadata": {},
   "outputs": [],
   "source": [
    "## Looking for correlations"
   ]
  },
  {
   "cell_type": "code",
   "execution_count": 29,
   "id": "81b9fa17",
   "metadata": {},
   "outputs": [],
   "source": [
    "correlation_matrix=housing_data.corr()"
   ]
  },
  {
   "cell_type": "code",
   "execution_count": 30,
   "id": "6738144f",
   "metadata": {},
   "outputs": [
    {
     "data": {
      "text/html": [
       "<div>\n",
       "<style scoped>\n",
       "    .dataframe tbody tr th:only-of-type {\n",
       "        vertical-align: middle;\n",
       "    }\n",
       "\n",
       "    .dataframe tbody tr th {\n",
       "        vertical-align: top;\n",
       "    }\n",
       "\n",
       "    .dataframe thead th {\n",
       "        text-align: right;\n",
       "    }\n",
       "</style>\n",
       "<table border=\"1\" class=\"dataframe\">\n",
       "  <thead>\n",
       "    <tr style=\"text-align: right;\">\n",
       "      <th></th>\n",
       "      <th>CRIM</th>\n",
       "      <th>ZN</th>\n",
       "      <th>INDUS</th>\n",
       "      <th>CHAS</th>\n",
       "      <th>NOX</th>\n",
       "      <th>RM</th>\n",
       "      <th>AGE</th>\n",
       "      <th>DIS</th>\n",
       "      <th>RAD</th>\n",
       "      <th>TAX</th>\n",
       "      <th>PTRATIO</th>\n",
       "      <th>B</th>\n",
       "      <th>LSTAT</th>\n",
       "      <th>MEDV</th>\n",
       "    </tr>\n",
       "  </thead>\n",
       "  <tbody>\n",
       "    <tr>\n",
       "      <th>CRIM</th>\n",
       "      <td>1.000000</td>\n",
       "      <td>-0.185359</td>\n",
       "      <td>0.392063</td>\n",
       "      <td>-0.055585</td>\n",
       "      <td>0.410971</td>\n",
       "      <td>-0.220045</td>\n",
       "      <td>0.343427</td>\n",
       "      <td>-0.366025</td>\n",
       "      <td>0.601224</td>\n",
       "      <td>0.560469</td>\n",
       "      <td>0.277964</td>\n",
       "      <td>-0.365336</td>\n",
       "      <td>0.437417</td>\n",
       "      <td>-0.383895</td>\n",
       "    </tr>\n",
       "    <tr>\n",
       "      <th>ZN</th>\n",
       "      <td>-0.185359</td>\n",
       "      <td>1.000000</td>\n",
       "      <td>-0.507800</td>\n",
       "      <td>-0.032992</td>\n",
       "      <td>-0.498619</td>\n",
       "      <td>0.312295</td>\n",
       "      <td>-0.535341</td>\n",
       "      <td>0.632428</td>\n",
       "      <td>-0.300061</td>\n",
       "      <td>-0.304385</td>\n",
       "      <td>-0.394622</td>\n",
       "      <td>0.170125</td>\n",
       "      <td>-0.398838</td>\n",
       "      <td>0.362292</td>\n",
       "    </tr>\n",
       "    <tr>\n",
       "      <th>INDUS</th>\n",
       "      <td>0.392063</td>\n",
       "      <td>-0.507800</td>\n",
       "      <td>1.000000</td>\n",
       "      <td>0.054172</td>\n",
       "      <td>0.740965</td>\n",
       "      <td>-0.381457</td>\n",
       "      <td>0.616917</td>\n",
       "      <td>-0.699639</td>\n",
       "      <td>0.593176</td>\n",
       "      <td>0.716062</td>\n",
       "      <td>0.384806</td>\n",
       "      <td>-0.354597</td>\n",
       "      <td>0.567859</td>\n",
       "      <td>-0.478657</td>\n",
       "    </tr>\n",
       "    <tr>\n",
       "      <th>CHAS</th>\n",
       "      <td>-0.055585</td>\n",
       "      <td>-0.032992</td>\n",
       "      <td>0.054172</td>\n",
       "      <td>1.000000</td>\n",
       "      <td>0.070867</td>\n",
       "      <td>0.106797</td>\n",
       "      <td>0.074984</td>\n",
       "      <td>-0.092318</td>\n",
       "      <td>-0.003339</td>\n",
       "      <td>-0.035822</td>\n",
       "      <td>-0.109451</td>\n",
       "      <td>0.050608</td>\n",
       "      <td>-0.047279</td>\n",
       "      <td>0.183844</td>\n",
       "    </tr>\n",
       "    <tr>\n",
       "      <th>NOX</th>\n",
       "      <td>0.410971</td>\n",
       "      <td>-0.498619</td>\n",
       "      <td>0.740965</td>\n",
       "      <td>0.070867</td>\n",
       "      <td>1.000000</td>\n",
       "      <td>-0.302188</td>\n",
       "      <td>0.711864</td>\n",
       "      <td>-0.769230</td>\n",
       "      <td>0.611441</td>\n",
       "      <td>0.668023</td>\n",
       "      <td>0.188933</td>\n",
       "      <td>-0.380051</td>\n",
       "      <td>0.573040</td>\n",
       "      <td>-0.427321</td>\n",
       "    </tr>\n",
       "    <tr>\n",
       "      <th>RM</th>\n",
       "      <td>-0.220045</td>\n",
       "      <td>0.312295</td>\n",
       "      <td>-0.381457</td>\n",
       "      <td>0.106797</td>\n",
       "      <td>-0.302188</td>\n",
       "      <td>1.000000</td>\n",
       "      <td>-0.239518</td>\n",
       "      <td>0.205246</td>\n",
       "      <td>-0.209847</td>\n",
       "      <td>-0.292048</td>\n",
       "      <td>-0.355501</td>\n",
       "      <td>0.128069</td>\n",
       "      <td>-0.604323</td>\n",
       "      <td>0.695360</td>\n",
       "    </tr>\n",
       "    <tr>\n",
       "      <th>AGE</th>\n",
       "      <td>0.343427</td>\n",
       "      <td>-0.535341</td>\n",
       "      <td>0.616917</td>\n",
       "      <td>0.074984</td>\n",
       "      <td>0.711864</td>\n",
       "      <td>-0.239518</td>\n",
       "      <td>1.000000</td>\n",
       "      <td>-0.724354</td>\n",
       "      <td>0.447088</td>\n",
       "      <td>0.498408</td>\n",
       "      <td>0.261826</td>\n",
       "      <td>-0.268029</td>\n",
       "      <td>0.575022</td>\n",
       "      <td>-0.377572</td>\n",
       "    </tr>\n",
       "    <tr>\n",
       "      <th>DIS</th>\n",
       "      <td>-0.366025</td>\n",
       "      <td>0.632428</td>\n",
       "      <td>-0.699639</td>\n",
       "      <td>-0.092318</td>\n",
       "      <td>-0.769230</td>\n",
       "      <td>0.205246</td>\n",
       "      <td>-0.724354</td>\n",
       "      <td>1.000000</td>\n",
       "      <td>-0.494588</td>\n",
       "      <td>-0.534432</td>\n",
       "      <td>-0.232471</td>\n",
       "      <td>0.291512</td>\n",
       "      <td>-0.483244</td>\n",
       "      <td>0.249929</td>\n",
       "    </tr>\n",
       "    <tr>\n",
       "      <th>RAD</th>\n",
       "      <td>0.601224</td>\n",
       "      <td>-0.300061</td>\n",
       "      <td>0.593176</td>\n",
       "      <td>-0.003339</td>\n",
       "      <td>0.611441</td>\n",
       "      <td>-0.209847</td>\n",
       "      <td>0.447088</td>\n",
       "      <td>-0.494588</td>\n",
       "      <td>1.000000</td>\n",
       "      <td>0.910228</td>\n",
       "      <td>0.464741</td>\n",
       "      <td>-0.444413</td>\n",
       "      <td>0.467765</td>\n",
       "      <td>-0.381626</td>\n",
       "    </tr>\n",
       "    <tr>\n",
       "      <th>TAX</th>\n",
       "      <td>0.560469</td>\n",
       "      <td>-0.304385</td>\n",
       "      <td>0.716062</td>\n",
       "      <td>-0.035822</td>\n",
       "      <td>0.668023</td>\n",
       "      <td>-0.292048</td>\n",
       "      <td>0.498408</td>\n",
       "      <td>-0.534432</td>\n",
       "      <td>0.910228</td>\n",
       "      <td>1.000000</td>\n",
       "      <td>0.460853</td>\n",
       "      <td>-0.441808</td>\n",
       "      <td>0.524156</td>\n",
       "      <td>-0.468536</td>\n",
       "    </tr>\n",
       "    <tr>\n",
       "      <th>PTRATIO</th>\n",
       "      <td>0.277964</td>\n",
       "      <td>-0.394622</td>\n",
       "      <td>0.384806</td>\n",
       "      <td>-0.109451</td>\n",
       "      <td>0.188933</td>\n",
       "      <td>-0.355501</td>\n",
       "      <td>0.261826</td>\n",
       "      <td>-0.232471</td>\n",
       "      <td>0.464741</td>\n",
       "      <td>0.460853</td>\n",
       "      <td>1.000000</td>\n",
       "      <td>-0.177383</td>\n",
       "      <td>0.370727</td>\n",
       "      <td>-0.507787</td>\n",
       "    </tr>\n",
       "    <tr>\n",
       "      <th>B</th>\n",
       "      <td>-0.365336</td>\n",
       "      <td>0.170125</td>\n",
       "      <td>-0.354597</td>\n",
       "      <td>0.050608</td>\n",
       "      <td>-0.380051</td>\n",
       "      <td>0.128069</td>\n",
       "      <td>-0.268029</td>\n",
       "      <td>0.291512</td>\n",
       "      <td>-0.444413</td>\n",
       "      <td>-0.441808</td>\n",
       "      <td>-0.177383</td>\n",
       "      <td>1.000000</td>\n",
       "      <td>-0.370993</td>\n",
       "      <td>0.333461</td>\n",
       "    </tr>\n",
       "    <tr>\n",
       "      <th>LSTAT</th>\n",
       "      <td>0.437417</td>\n",
       "      <td>-0.398838</td>\n",
       "      <td>0.567859</td>\n",
       "      <td>-0.047279</td>\n",
       "      <td>0.573040</td>\n",
       "      <td>-0.604323</td>\n",
       "      <td>0.575022</td>\n",
       "      <td>-0.483244</td>\n",
       "      <td>0.467765</td>\n",
       "      <td>0.524156</td>\n",
       "      <td>0.370727</td>\n",
       "      <td>-0.370993</td>\n",
       "      <td>1.000000</td>\n",
       "      <td>-0.723093</td>\n",
       "    </tr>\n",
       "    <tr>\n",
       "      <th>MEDV</th>\n",
       "      <td>-0.383895</td>\n",
       "      <td>0.362292</td>\n",
       "      <td>-0.478657</td>\n",
       "      <td>0.183844</td>\n",
       "      <td>-0.427321</td>\n",
       "      <td>0.695360</td>\n",
       "      <td>-0.377572</td>\n",
       "      <td>0.249929</td>\n",
       "      <td>-0.381626</td>\n",
       "      <td>-0.468536</td>\n",
       "      <td>-0.507787</td>\n",
       "      <td>0.333461</td>\n",
       "      <td>-0.723093</td>\n",
       "      <td>1.000000</td>\n",
       "    </tr>\n",
       "  </tbody>\n",
       "</table>\n",
       "</div>"
      ],
      "text/plain": [
       "             CRIM        ZN     INDUS      CHAS       NOX        RM       AGE  \\\n",
       "CRIM     1.000000 -0.185359  0.392063 -0.055585  0.410971 -0.220045  0.343427   \n",
       "ZN      -0.185359  1.000000 -0.507800 -0.032992 -0.498619  0.312295 -0.535341   \n",
       "INDUS    0.392063 -0.507800  1.000000  0.054172  0.740965 -0.381457  0.616917   \n",
       "CHAS    -0.055585 -0.032992  0.054172  1.000000  0.070867  0.106797  0.074984   \n",
       "NOX      0.410971 -0.498619  0.740965  0.070867  1.000000 -0.302188  0.711864   \n",
       "RM      -0.220045  0.312295 -0.381457  0.106797 -0.302188  1.000000 -0.239518   \n",
       "AGE      0.343427 -0.535341  0.616917  0.074984  0.711864 -0.239518  1.000000   \n",
       "DIS     -0.366025  0.632428 -0.699639 -0.092318 -0.769230  0.205246 -0.724354   \n",
       "RAD      0.601224 -0.300061  0.593176 -0.003339  0.611441 -0.209847  0.447088   \n",
       "TAX      0.560469 -0.304385  0.716062 -0.035822  0.668023 -0.292048  0.498408   \n",
       "PTRATIO  0.277964 -0.394622  0.384806 -0.109451  0.188933 -0.355501  0.261826   \n",
       "B       -0.365336  0.170125 -0.354597  0.050608 -0.380051  0.128069 -0.268029   \n",
       "LSTAT    0.437417 -0.398838  0.567859 -0.047279  0.573040 -0.604323  0.575022   \n",
       "MEDV    -0.383895  0.362292 -0.478657  0.183844 -0.427321  0.695360 -0.377572   \n",
       "\n",
       "              DIS       RAD       TAX   PTRATIO         B     LSTAT      MEDV  \n",
       "CRIM    -0.366025  0.601224  0.560469  0.277964 -0.365336  0.437417 -0.383895  \n",
       "ZN       0.632428 -0.300061 -0.304385 -0.394622  0.170125 -0.398838  0.362292  \n",
       "INDUS   -0.699639  0.593176  0.716062  0.384806 -0.354597  0.567859 -0.478657  \n",
       "CHAS    -0.092318 -0.003339 -0.035822 -0.109451  0.050608 -0.047279  0.183844  \n",
       "NOX     -0.769230  0.611441  0.668023  0.188933 -0.380051  0.573040 -0.427321  \n",
       "RM       0.205246 -0.209847 -0.292048 -0.355501  0.128069 -0.604323  0.695360  \n",
       "AGE     -0.724354  0.447088  0.498408  0.261826 -0.268029  0.575022 -0.377572  \n",
       "DIS      1.000000 -0.494588 -0.534432 -0.232471  0.291512 -0.483244  0.249929  \n",
       "RAD     -0.494588  1.000000  0.910228  0.464741 -0.444413  0.467765 -0.381626  \n",
       "TAX     -0.534432  0.910228  1.000000  0.460853 -0.441808  0.524156 -0.468536  \n",
       "PTRATIO -0.232471  0.464741  0.460853  1.000000 -0.177383  0.370727 -0.507787  \n",
       "B        0.291512 -0.444413 -0.441808 -0.177383  1.000000 -0.370993  0.333461  \n",
       "LSTAT   -0.483244  0.467765  0.524156  0.370727 -0.370993  1.000000 -0.723093  \n",
       "MEDV     0.249929 -0.381626 -0.468536 -0.507787  0.333461 -0.723093  1.000000  "
      ]
     },
     "execution_count": 30,
     "metadata": {},
     "output_type": "execute_result"
    }
   ],
   "source": [
    "correlation_matrix"
   ]
  },
  {
   "cell_type": "code",
   "execution_count": 31,
   "id": "9d8a9286",
   "metadata": {},
   "outputs": [
    {
     "data": {
      "text/plain": [
       "CRIM      -0.383895\n",
       "ZN         0.362292\n",
       "INDUS     -0.478657\n",
       "CHAS       0.183844\n",
       "NOX       -0.427321\n",
       "RM         0.695360\n",
       "AGE       -0.377572\n",
       "DIS        0.249929\n",
       "RAD       -0.381626\n",
       "TAX       -0.468536\n",
       "PTRATIO   -0.507787\n",
       "B          0.333461\n",
       "LSTAT     -0.723093\n",
       "MEDV       1.000000\n",
       "Name: MEDV, dtype: float64"
      ]
     },
     "execution_count": 31,
     "metadata": {},
     "output_type": "execute_result"
    }
   ],
   "source": [
    "correlation_matrix['MEDV']\n",
    "# we have to check correlation between output and input variables\n"
   ]
  },
  {
   "cell_type": "code",
   "execution_count": 32,
   "id": "32de426a",
   "metadata": {},
   "outputs": [
    {
     "data": {
      "text/plain": [
       "MEDV       1.000000\n",
       "RM         0.695360\n",
       "ZN         0.362292\n",
       "B          0.333461\n",
       "DIS        0.249929\n",
       "CHAS       0.183844\n",
       "AGE       -0.377572\n",
       "RAD       -0.381626\n",
       "CRIM      -0.383895\n",
       "NOX       -0.427321\n",
       "TAX       -0.468536\n",
       "INDUS     -0.478657\n",
       "PTRATIO   -0.507787\n",
       "LSTAT     -0.723093\n",
       "Name: MEDV, dtype: float64"
      ]
     },
     "execution_count": 32,
     "metadata": {},
     "output_type": "execute_result"
    }
   ],
   "source": [
    "correlation_matrix['MEDV'].sort_values(ascending=False)\n",
    "# Here we can see RM ZN are strongly positively correlated andLSTAT PTRATIO are negatively correlated\n",
    "# We'll consider values of corr above 0.5 for prediciton\n",
    "# thatis RM LSTAT PTRATIO and maybe INDus\n"
   ]
  },
  {
   "cell_type": "code",
   "execution_count": 33,
   "id": "91f22ce9",
   "metadata": {},
   "outputs": [
    {
     "data": {
      "text/plain": [
       "array([[<AxesSubplot:xlabel='MEDV', ylabel='MEDV'>,\n",
       "        <AxesSubplot:xlabel='RM', ylabel='MEDV'>,\n",
       "        <AxesSubplot:xlabel='LSTAT', ylabel='MEDV'>,\n",
       "        <AxesSubplot:xlabel='PTRATIO', ylabel='MEDV'>],\n",
       "       [<AxesSubplot:xlabel='MEDV', ylabel='RM'>,\n",
       "        <AxesSubplot:xlabel='RM', ylabel='RM'>,\n",
       "        <AxesSubplot:xlabel='LSTAT', ylabel='RM'>,\n",
       "        <AxesSubplot:xlabel='PTRATIO', ylabel='RM'>],\n",
       "       [<AxesSubplot:xlabel='MEDV', ylabel='LSTAT'>,\n",
       "        <AxesSubplot:xlabel='RM', ylabel='LSTAT'>,\n",
       "        <AxesSubplot:xlabel='LSTAT', ylabel='LSTAT'>,\n",
       "        <AxesSubplot:xlabel='PTRATIO', ylabel='LSTAT'>],\n",
       "       [<AxesSubplot:xlabel='MEDV', ylabel='PTRATIO'>,\n",
       "        <AxesSubplot:xlabel='RM', ylabel='PTRATIO'>,\n",
       "        <AxesSubplot:xlabel='LSTAT', ylabel='PTRATIO'>,\n",
       "        <AxesSubplot:xlabel='PTRATIO', ylabel='PTRATIO'>]], dtype=object)"
      ]
     },
     "execution_count": 33,
     "metadata": {},
     "output_type": "execute_result"
    },
    {
     "data": {
      "image/png": "[encoded data removed]",
      "text/plain": [
       "<Figure size 720x720 with 16 Axes>"
      ]
     },
     "metadata": {
      "needs_background": "light"
     },
     "output_type": "display_data"
    }
   ],
   "source": [
    "from pandas.plotting import scatter_matrix\n",
    "attr=['MEDV','RM','LSTAT','PTRATIO']\n",
    "# attr stores columns of interest\n",
    "scatter_matrix(housing_data[attr],figsize=(10,10))"
   ]
  },
  {
   "cell_type": "code",
   "execution_count": 34,
   "id": "b9e7d209",
   "metadata": {},
   "outputs": [],
   "source": [
    "# As we can see above along the diagonal are histograms of how data is distributed\n",
    "# and then the scatter plots of different attributes against each other are plotted\n",
    "# wih the scatter plot we can not see clear relation between PTRATIO and medv so lets discard PTRATio\n",
    "attr=['MEDV','RM','LSTAT']\n"
   ]
  },
  {
   "cell_type": "code",
   "execution_count": 35,
   "id": "08b074d0",
   "metadata": {},
   "outputs": [
    {
     "data": {
      "text/plain": [
       "<AxesSubplot:xlabel='RM', ylabel='MEDV'>"
      ]
     },
     "execution_count": 35,
     "metadata": {},
     "output_type": "execute_result"
    },
    {
     "data": {
      "image/png": "[encoded data removed]",
      "text/plain": [
       "<Figure size 432x288 with 1 Axes>"
      ]
     },
     "metadata": {
      "needs_background": "light"
     },
     "output_type": "display_data"
    }
   ],
   "source": [
    "housing_data.plot(kind='scatter',x='RM',y='MEDV')"
   ]
  },
  {
   "cell_type": "code",
   "execution_count": 36,
   "id": "659bec41",
   "metadata": {},
   "outputs": [
    {
     "data": {
      "text/plain": [
       "<AxesSubplot:xlabel='RM', ylabel='MEDV'>"
      ]
     },
     "execution_count": 36,
     "metadata": {},
     "output_type": "execute_result"
    },
    {
     "data": {
      "image/png": "[encoded data removed]",
      "text/plain": [
       "<Figure size 432x288 with 1 Axes>"
      ]
     },
     "metadata": {
      "needs_background": "light"
     },
     "output_type": "display_data"
    }
   ],
   "source": [
    "housing_data.plot(kind='scatter',x='RM',y='MEDV',alpha=0.1)"
   ]
  },
  {
   "cell_type": "code",
   "execution_count": 37,
   "id": "dad2a2c9",
   "metadata": {},
   "outputs": [],
   "source": [
    "## Deleting outliers"
   ]
  },
  {
   "cell_type": "code",
   "execution_count": 38,
   "id": "d03414ab",
   "metadata": {},
   "outputs": [],
   "source": [
    "## Scikit learn design"
   ]
  },
  {
   "cell_type": "code",
   "execution_count": 39,
   "id": "5d54d369",
   "metadata": {},
   "outputs": [],
   "source": [
    "##### In scikit learn we have 3 typesof objects\n",
    "##### 1. Estimators- calculates avg, median value estimates. For eg: Imputer function calculates median and fits. It has a fit and transform method\n",
    "##### fit function  takes dataset and understands it to calculate/estimate values\n",
    "##### 2. Transformers- returns output based on fit() function fit_transform() does both\n",
    "##### 3. Predictors- LinearRegression model of sklearn predicts. has two functions fit and predict fits the test dataset or sees the test and then predicts on what it has learnt. also returns score function to analyse how the model performs falso positive, false negative, true positive true negative\n"
   ]
  },
  {
   "cell_type": "code",
   "execution_count": 40,
   "id": "481ce95e",
   "metadata": {},
   "outputs": [],
   "source": [
    "# fit is used to understand the data, scaler or encoder is fitted onto the data\n",
    "# transform is used to apply the knowledge gained by the model to the data\n"
   ]
  },
  {
   "cell_type": "code",
   "execution_count": 43,
   "id": "56cf5ac2",
   "metadata": {},
   "outputs": [],
   "source": [
    "x=housing_data.loc[:,['RM','LSTAT','PTRATIO']]"
   ]
  },
  {
   "cell_type": "code",
   "execution_count": 45,
   "id": "9ea61627",
   "metadata": {},
   "outputs": [],
   "source": [
    "y=housing_data.loc[:,'MEDV']"
   ]
  },
  {
   "cell_type": "code",
   "execution_count": 47,
   "id": "27cbbd4d",
   "metadata": {},
   "outputs": [
    {
     "data": {
      "text/html": [
       "<div>\n",
       "<style scoped>\n",
       "    .dataframe tbody tr th:only-of-type {\n",
       "        vertical-align: middle;\n",
       "    }\n",
       "\n",
       "    .dataframe tbody tr th {\n",
       "        vertical-align: top;\n",
       "    }\n",
       "\n",
       "    .dataframe thead th {\n",
       "        text-align: right;\n",
       "    }\n",
       "</style>\n",
       "<table border=\"1\" class=\"dataframe\">\n",
       "  <thead>\n",
       "    <tr style=\"text-align: right;\">\n",
       "      <th></th>\n",
       "      <th>RM</th>\n",
       "      <th>LSTAT</th>\n",
       "      <th>PTRATIO</th>\n",
       "    </tr>\n",
       "  </thead>\n",
       "  <tbody>\n",
       "    <tr>\n",
       "      <th>0</th>\n",
       "      <td>6.575</td>\n",
       "      <td>4.98</td>\n",
       "      <td>15.3</td>\n",
       "    </tr>\n",
       "    <tr>\n",
       "      <th>1</th>\n",
       "      <td>6.421</td>\n",
       "      <td>9.14</td>\n",
       "      <td>17.8</td>\n",
       "    </tr>\n",
       "    <tr>\n",
       "      <th>2</th>\n",
       "      <td>7.185</td>\n",
       "      <td>4.03</td>\n",
       "      <td>17.8</td>\n",
       "    </tr>\n",
       "    <tr>\n",
       "      <th>3</th>\n",
       "      <td>6.998</td>\n",
       "      <td>2.94</td>\n",
       "      <td>18.7</td>\n",
       "    </tr>\n",
       "    <tr>\n",
       "      <th>4</th>\n",
       "      <td>7.147</td>\n",
       "      <td>11.43</td>\n",
       "      <td>18.7</td>\n",
       "    </tr>\n",
       "    <tr>\n",
       "      <th>...</th>\n",
       "      <td>...</td>\n",
       "      <td>...</td>\n",
       "      <td>...</td>\n",
       "    </tr>\n",
       "    <tr>\n",
       "      <th>95</th>\n",
       "      <td>6.625</td>\n",
       "      <td>6.65</td>\n",
       "      <td>18.0</td>\n",
       "    </tr>\n",
       "    <tr>\n",
       "      <th>96</th>\n",
       "      <td>6.163</td>\n",
       "      <td>11.34</td>\n",
       "      <td>18.0</td>\n",
       "    </tr>\n",
       "    <tr>\n",
       "      <th>97</th>\n",
       "      <td>8.069</td>\n",
       "      <td>4.21</td>\n",
       "      <td>18.0</td>\n",
       "    </tr>\n",
       "    <tr>\n",
       "      <th>98</th>\n",
       "      <td>7.820</td>\n",
       "      <td>3.57</td>\n",
       "      <td>18.0</td>\n",
       "    </tr>\n",
       "    <tr>\n",
       "      <th>99</th>\n",
       "      <td>7.416</td>\n",
       "      <td>6.19</td>\n",
       "      <td>18.0</td>\n",
       "    </tr>\n",
       "  </tbody>\n",
       "</table>\n",
       "<p>100 rows × 3 columns</p>\n",
       "</div>"
      ],
      "text/plain": [
       "       RM  LSTAT  PTRATIO\n",
       "0   6.575   4.98     15.3\n",
       "1   6.421   9.14     17.8\n",
       "2   7.185   4.03     17.8\n",
       "3   6.998   2.94     18.7\n",
       "4   7.147  11.43     18.7\n",
       "..    ...    ...      ...\n",
       "95  6.625   6.65     18.0\n",
       "96  6.163  11.34     18.0\n",
       "97  8.069   4.21     18.0\n",
       "98  7.820   3.57     18.0\n",
       "99  7.416   6.19     18.0\n",
       "\n",
       "[100 rows x 3 columns]"
      ]
     },
     "execution_count": 47,
     "metadata": {},
     "output_type": "execute_result"
    }
   ],
   "source": [
    "x.head(100)"
   ]
  },
  {
   "cell_type": "code",
   "execution_count": 48,
   "id": "d5128ffa",
   "metadata": {},
   "outputs": [],
   "source": [
    "from sklearn.preprocessing import StandardScaler\n",
    "scaler=StandardScaler()\n",
    "x=scaler.fit_transform(x)"
   ]
  },
  {
   "cell_type": "code",
   "execution_count": 49,
   "id": "f68b3665",
   "metadata": {},
   "outputs": [
    {
     "data": {
      "text/plain": [
       "array([[ 0.41367189, -1.09619345, -1.45900038],\n",
       "       [ 0.19427445, -0.50277932, -0.30309415],\n",
       "       [ 1.28271368, -1.23170869, -0.30309415],\n",
       "       ...,\n",
       "       [ 0.98496002, -1.00204601,  1.17646583],\n",
       "       [ 0.72567214, -0.88222201,  1.17646583],\n",
       "       [-0.36276709, -0.68251533,  1.17646583]])"
      ]
     },
     "execution_count": 49,
     "metadata": {},
     "output_type": "execute_result"
    }
   ],
   "source": [
    "x"
   ]
  },
  {
   "cell_type": "code",
   "execution_count": 50,
   "id": "5a5e4331",
   "metadata": {},
   "outputs": [
    {
     "data": {
      "text/plain": [
       "(506, 3)"
      ]
     },
     "execution_count": 50,
     "metadata": {},
     "output_type": "execute_result"
    }
   ],
   "source": [
    "x.shape"
   ]
  },
  {
   "cell_type": "code",
   "execution_count": 51,
   "id": "264cc8b8",
   "metadata": {},
   "outputs": [],
   "source": [
    "from sklearn.model_selection import train_test_split\n",
    "x_train,x_test,y_train,y_test=train_test_split(x,y,test_size=0.3,random_state=42)"
   ]
  },
  {
   "cell_type": "code",
   "execution_count": 52,
   "id": "11fdfa26",
   "metadata": {},
   "outputs": [
    {
     "data": {
      "text/plain": [
       "LinearRegression()"
      ]
     },
     "execution_count": 52,
     "metadata": {},
     "output_type": "execute_result"
    }
   ],
   "source": [
    "from sklearn.linear_model import LinearRegression\n",
    "model=LinearRegression()\n",
    "model.fit(x_train,y_train)"
   ]
  },
  {
   "cell_type": "code",
   "execution_count": 55,
   "id": "7566a6f9",
   "metadata": {},
   "outputs": [
    {
     "data": {
      "text/plain": [
       "array([31.1608566])"
      ]
     },
     "execution_count": 55,
     "metadata": {},
     "output_type": "execute_result"
    }
   ],
   "source": [
    "model.predict([ [0.41367189, -1.09619345, -1.45900038],])"
   ]
  },
  {
   "cell_type": "code",
   "execution_count": 56,
   "id": "006460a7",
   "metadata": {},
   "outputs": [],
   "source": [
    "# actual value is 24"
   ]
  },
  {
   "cell_type": "code",
   "execution_count": 58,
   "id": "19a37ad4",
   "metadata": {},
   "outputs": [],
   "source": [
    "from sklearn.metrics import accuracy_score"
   ]
  },
  {
   "cell_type": "code",
   "execution_count": 59,
   "id": "26c8eefc",
   "metadata": {},
   "outputs": [],
   "source": [
    "y_pred=model.predict(x_test)"
   ]
  },
  {
   "cell_type": "code",
   "execution_count": 60,
   "id": "f24dad83",
   "metadata": {},
   "outputs": [
    {
     "data": {
      "text/plain": [
       "array([26.89486514, 30.84917419, 16.49142999, 24.97481654, 18.36657413,\n",
       "       22.68559826, 17.51000563, 12.89104224, 20.6010215 , 19.66996546,\n",
       "       19.68847039, 21.47630994, -1.5787035 , 22.24618712, 19.30158476,\n",
       "       25.02143363, 17.16196921,  3.84233049, 39.32557101, 17.33208787,\n",
       "       22.90175041, 27.4038845 , 11.77523224, 22.46968599, 17.89128674,\n",
       "       13.70991209, 21.06741731, 19.58539383, 18.16957317, 18.69209936,\n",
       "       19.5823836 , 25.36739676, 25.4412128 , 18.02321521, 14.60859888,\n",
       "       21.27160799, 32.41922787, 20.66888248, 20.1836245 , 22.39655491,\n",
       "       12.6704539 , 28.25168247, 39.87196334, 18.5898167 , 25.97529495,\n",
       "       15.67340451, 14.18961713, 25.956308  , 18.31628423, 31.16085658,\n",
       "       23.72754474, 33.61533863, 16.07841676, 25.64146555, 38.51730052,\n",
       "       22.32878379, 18.38990384, 30.04609129, 24.7534192 , 15.34296208,\n",
       "       25.54466087, 32.18277407, 29.90895482, 16.89393977, 28.23809335,\n",
       "       11.84599679, 19.28394907, 25.58400181, 28.99485497, 15.82319078,\n",
       "       19.77112917, 26.07008276, 12.46127457, 21.86138874, 23.01109425,\n",
       "        6.59351662, 20.00204225, 38.46757404, 17.33401426, 10.34556211,\n",
       "       22.47886954,  9.81269039, 24.37278849,  7.45950793, 21.8741572 ,\n",
       "       28.24419712, 20.78835451, 25.94300291, 26.15184423, 19.79244352,\n",
       "       24.38330865,  8.17981653, 20.53680336, 20.37260832, 11.21617512,\n",
       "       21.41924585, 22.48141458,  0.45920245, 18.69538773, 17.78693912,\n",
       "       21.08483479, 24.48112578,  9.18591776, 20.56997665, 25.49722375,\n",
       "       13.94001528, 18.42530027, 26.62416155, 22.51139258, 28.02190531,\n",
       "       12.3360565 , 19.55471767, 24.54662212, 24.30063348, 31.31192956,\n",
       "       19.16324087, 33.13345186, 14.77305589, 19.49249234, 28.76355975,\n",
       "       18.75181697, 26.85532803, 14.79622937, 23.21948267, 26.44861506,\n",
       "       23.23981043, 27.78426682, 31.81666665, 23.83292947, 38.16286159,\n",
       "       10.26338911, 27.2230078 , 19.04772088, 19.60941631, 11.48945049,\n",
       "       22.02463413, 22.3255722 , 33.08600748, 31.38362515, 16.44573399,\n",
       "       17.70856005, 30.51023484, 23.63695555, 11.61466256,  8.83246077,\n",
       "       23.78590038, 23.66504208, 22.28292342, 13.83417163, 39.77021362,\n",
       "       19.64037201, 18.62980761])"
      ]
     },
     "execution_count": 60,
     "metadata": {},
     "output_type": "execute_result"
    }
   ],
   "source": [
    "y_pred"
   ]
  },
  {
   "cell_type": "code",
   "execution_count": 63,
   "id": "6711f2a2",
   "metadata": {},
   "outputs": [
    {
     "name": "stdout",
     "output_type": "stream",
     "text": [
      "26.061096108340013\n"
     ]
    }
   ],
   "source": [
    "from sklearn.metrics import mean_squared_error\n",
    "mse=mean_squared_error(y_test,y_pred)\n",
    "print(mse)"
   ]
  },
  {
   "cell_type": "code",
   "execution_count": 64,
   "id": "2205fdde",
   "metadata": {},
   "outputs": [
    {
     "name": "stdout",
     "output_type": "stream",
     "text": [
      "3.576106940435711\n"
     ]
    }
   ],
   "source": [
    "from sklearn.metrics import mean_absolute_error\n",
    "mae=mean_absolute_error(y_test,y_pred)\n",
    "print(mae)"
   ]
  },
  {
   "cell_type": "code",
   "execution_count": 65,
   "id": "8aab0050",
   "metadata": {},
   "outputs": [
    {
     "name": "stdout",
     "output_type": "stream",
     "text": [
      "0.6502481086079239\n"
     ]
    }
   ],
   "source": [
    "from sklearn.metrics import r2_score\n",
    "r2=r2_score(y_test,y_pred)\n",
    "print(r2)"
   ]
  },
  {
   "cell_type": "code",
   "execution_count": 57,
   "id": "77ff8a7d",
   "metadata": {},
   "outputs": [],
   "source": [
    "x1=housing_data.iloc[:,:13]\n",
    "y1=housing_data.iloc[:,13]"
   ]
  },
  {
   "cell_type": "code",
   "execution_count": 66,
   "id": "4aabe10e",
   "metadata": {},
   "outputs": [],
   "source": [
    "x1=scaler.fit_transform(x1)\n",
    "from sklearn.model_selection import train_test_split\n",
    "x1_train,x1_test,y1_train,y1_test=train_test_split(x1,y1,test_size=0.3,random_state=42)"
   ]
  },
  {
   "cell_type": "code",
   "execution_count": 67,
   "id": "58a720ee",
   "metadata": {},
   "outputs": [
    {
     "data": {
      "text/plain": [
       "LinearRegression()"
      ]
     },
     "execution_count": 67,
     "metadata": {},
     "output_type": "execute_result"
    }
   ],
   "source": [
    "model1=LinearRegression()\n",
    "model1.fit(x1_train,y1_train)"
   ]
  },
  {
   "cell_type": "code",
   "execution_count": 70,
   "id": "c92246b3",
   "metadata": {},
   "outputs": [],
   "source": [
    "y1_pred=model1.predict(x1_test)"
   ]
  },
  {
   "cell_type": "code",
   "execution_count": 72,
   "id": "0a3b4f5a",
   "metadata": {},
   "outputs": [
    {
     "name": "stdout",
     "output_type": "stream",
     "text": [
      "21.783005057575913\n"
     ]
    }
   ],
   "source": [
    "mse1=mean_squared_error(y1_test,y1_pred)\n",
    "print(mse1)"
   ]
  },
  {
   "cell_type": "code",
   "execution_count": 73,
   "id": "b4b342e4",
   "metadata": {},
   "outputs": [
    {
     "name": "stdout",
     "output_type": "stream",
     "text": [
      "0.707662057366335\n"
     ]
    }
   ],
   "source": [
    "from sklearn.metrics import r2_score\n",
    "r21=r2_score(y1_test,y1_pred)\n",
    "print(r21)"
   ]
  },
  {
   "cell_type": "code",
   "execution_count": 74,
   "id": "60db28b3",
   "metadata": {},
   "outputs": [
    {
     "data": {
      "text/plain": [
       "LinearRegression()"
      ]
     },
     "execution_count": 74,
     "metadata": {},
     "output_type": "execute_result"
    }
   ],
   "source": [
    "x2_train,x2_test,y2_train,y2_test=train_test_split(x,y,test_size=0.2,random_state=42)\n",
    "model2=LinearRegression()\n",
    "model2.fit(x2_train,y2_train)"
   ]
  },
  {
   "cell_type": "code",
   "execution_count": 76,
   "id": "5e446daf",
   "metadata": {},
   "outputs": [],
   "source": [
    "y2_pred=model2.predict(x2_test)"
   ]
  },
  {
   "cell_type": "code",
   "execution_count": 77,
   "id": "cf667d5e",
   "metadata": {},
   "outputs": [
    {
     "name": "stdout",
     "output_type": "stream",
     "text": [
      "27.404250288062286\n"
     ]
    }
   ],
   "source": [
    "mse2=mean_squared_error(y2_test,y2_pred)\n",
    "print(mse2)"
   ]
  },
  {
   "cell_type": "code",
   "execution_count": null,
   "id": "002ce745",
   "metadata": {},
   "outputs": [],
   "source": []
  }
 ],
 "metadata": {
  "kernelspec": {
   "display_name": "Python 3 (ipykernel)",
   "language": "python",
   "name": "python3"
  },
  "language_info": {
   "codemirror_mode": {
    "name": "ipython",
    "version": 3
   },
   "file_extension": ".py",
   "mimetype": "text/x-python",
   "name": "python",
   "nbconvert_exporter": "python",
   "pygments_lexer": "ipython3",
   "version": "3.9.12"
  }
 },
 "nbformat": 4,
 "nbformat_minor": 5
}
